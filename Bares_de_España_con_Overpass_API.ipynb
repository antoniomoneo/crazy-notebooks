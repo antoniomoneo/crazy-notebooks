{
  "nbformat": 4,
  "nbformat_minor": 0,
  "metadata": {
    "colab": {
      "name": "Bares_de_España_con_Overpass_API.ipynb",
      "provenance": [],
      "collapsed_sections": [
        "Y9_KsY37gDyY",
        "tHSd8Ra8TR59"
      ]
    },
    "kernelspec": {
      "name": "python3",
      "display_name": "Python 3"
    },
    "language_info": {
      "name": "python"
    }
  },
  "cells": [
    {
      "cell_type": "markdown",
      "metadata": {
        "id": "YeUiFxhhOeyF"
      },
      "source": [
        "# Instalar dependencias"
      ]
    },
    {
      "cell_type": "code",
      "metadata": {
        "id": "qJ-ErrK_OTcy",
        "colab": {
          "base_uri": "https://localhost:8080/"
        },
        "outputId": "b18d5560-a8e0-4281-d379-4755e120926d"
      },
      "source": [
        "pip install overpy"
      ],
      "execution_count": null,
      "outputs": [
        {
          "output_type": "stream",
          "text": [
            "Requirement already satisfied: overpy in /usr/local/lib/python3.7/dist-packages (0.6)\n"
          ],
          "name": "stdout"
        }
      ]
    },
    {
      "cell_type": "code",
      "metadata": {
        "colab": {
          "base_uri": "https://localhost:8080/"
        },
        "id": "XKRUHEosEIf6",
        "outputId": "7fc11887-e82d-40dd-af18-9a2f6ee68fbf"
      },
      "source": [
        "pip install fsspec"
      ],
      "execution_count": 35,
      "outputs": [
        {
          "output_type": "stream",
          "text": [
            "Requirement already satisfied: fsspec in /usr/local/lib/python3.7/dist-packages (2021.4.0)\n"
          ],
          "name": "stdout"
        }
      ]
    },
    {
      "cell_type": "markdown",
      "metadata": {
        "id": "dMV8fU1lOih3"
      },
      "source": [
        "# Cargar módulos e inicializar"
      ]
    },
    {
      "cell_type": "code",
      "metadata": {
        "id": "cVcfr4QKOj_E"
      },
      "source": [
        "import requests\n",
        "import overpy\n",
        "\n",
        "api = overpy.Overpass()"
      ],
      "execution_count": null,
      "outputs": []
    },
    {
      "cell_type": "markdown",
      "metadata": {
        "id": "xMYIPbb2UXnr"
      },
      "source": [
        "# Comprobar estado de las connexiones a Overpass"
      ]
    },
    {
      "cell_type": "markdown",
      "metadata": {
        "id": "19X6-TAqUrz0"
      },
      "source": [
        "*La API de Overpass, tiene una limitación en cuanto a la cantidad de consultas recurrentes que se pueden realizar y en algunos casos puede generar un timeout con el error **OverpassTooManyRequests**.*\n",
        "\n",
        "*Podemos comprobar el estado de nuestra connexión con el siguiente fragmento:*"
      ]
    },
    {
      "cell_type": "code",
      "metadata": {
        "id": "HMynthe1T5wa",
        "colab": {
          "base_uri": "https://localhost:8080/"
        },
        "outputId": "07ef8d28-8586-4a15-d77f-2d8cdd741eb5"
      },
      "source": [
        "estado = requests.get('https://overpass-api.de/api/status')\n",
        "print(estado.content.decode('utf-8'))"
      ],
      "execution_count": null,
      "outputs": [
        {
          "output_type": "stream",
          "text": [
            "Connected as: 576445613\n",
            "Current time: 2021-05-04T20:11:32Z\n",
            "Rate limit: 2\n",
            "2 slots available now.\n",
            "Currently running queries (pid, space limit, time limit, start time):\n",
            "\n"
          ],
          "name": "stdout"
        }
      ]
    },
    {
      "cell_type": "markdown",
      "metadata": {
        "id": "m30RIvlPPAWo"
      },
      "source": [
        "# Consulta"
      ]
    },
    {
      "cell_type": "markdown",
      "metadata": {
        "id": "jfONK0t2y7_M"
      },
      "source": [
        "En la primera línea de la consulta podemos indicar la fecha.\n",
        "\n",
        "La seguna línea sirve para limitar los resultados a España.\n",
        "\n",
        "A continuación se recogen distintas categorías de comercio, según la clave amenities. He añadido las que me han parecido que encajaban con lo solicitado. Puedes ver todos los valores posibles de la clave amenities en https://wiki.openstreetmap.org/wiki/Key:amenity."
      ]
    },
    {
      "cell_type": "code",
      "metadata": {
        "id": "8s-O5l5LPB48"
      },
      "source": [
        "query = ('[out:json][timeout:25000][date:\"2020-12-31T23:59:59Z\"];'\n",
        "           'area[\"name\"=\"España\"][admin_level=\"2\"];('\n",
        "              'node[\"amenity\"=\"bar\"](area); way[\"amenity\"=\"bar\"](area);'\n",
        "              'node[\"amenity\"=\"biergarten\"](area); way[\"amenity\"=\"biergarten\"](area);'\n",
        "              'node[\"amenity\"=\"cafe\"](area); way[\"amenity\"=\"cafe\"](area);'\n",
        "              'node[\"amenity\"=\"fast_food\"](area); way[\"amenity\"=\"fast_food\"](area);'\n",
        "              'node[\"amenity\"=\"food_court\"](area); way[\"amenity\"=\"food_court\"](area);'\n",
        "              'node[\"amenity\"=\"pub\"](area); way[\"amenity\"=\"pub\"](area);'\n",
        "              'node[\"amenity\"=\"restaurant\"](area); way[\"amenity\"=\"restaurant\"](area);'\n",
        "           ');out;')\n",
        "resultado = api.query(query)"
      ],
      "execution_count": null,
      "outputs": []
    },
    {
      "cell_type": "markdown",
      "metadata": {
        "id": "4uXHx_6MS-TH"
      },
      "source": [
        "*Los resultados devueltos se dividen entre nodes (puntos ) y ways (líneas o polígonos).*\n",
        "\n",
        "*Algunos comercios y edificios a veces se guardan como polígonos, aunque la mayoría estan definidos como puntos.*"
      ]
    },
    {
      "cell_type": "markdown",
      "metadata": {
        "id": "Y9_KsY37gDyY"
      },
      "source": [
        "# Examinar el resultado"
      ]
    },
    {
      "cell_type": "code",
      "metadata": {
        "colab": {
          "base_uri": "https://localhost:8080/"
        },
        "id": "XjBC2LG8dGkH",
        "outputId": "6509b15b-c864-4d83-fbf2-58ce7a088cd5"
      },
      "source": [
        "print(f'Hay {len(resultado.nodes)} \"nodes\".')\n",
        "print(f'Hay {len(resultado.ways)} \"ways\".')"
      ],
      "execution_count": null,
      "outputs": [
        {
          "output_type": "stream",
          "text": [
            "Hay 41433 \"nodes\".\n",
            "Hay 0 \"ways\".\n"
          ],
          "name": "stdout"
        }
      ]
    },
    {
      "cell_type": "markdown",
      "metadata": {
        "id": "tHSd8Ra8TR59"
      },
      "source": [
        "# Recorrer los puntos devueltos"
      ]
    },
    {
      "cell_type": "code",
      "metadata": {
        "id": "hUBsCH8yTfY4",
        "colab": {
          "base_uri": "https://localhost:8080/",
          "height": 231
        },
        "outputId": "44e21754-a2ec-4f45-8909-2f72a9bf5f6d"
      },
      "source": [
        "for comercio in resultado.nodes:\n",
        "    # Ver todas las propiedades y métodos de este objeto\n",
        "    #print(dir(comercio))\n",
        "    # Ver las propiedades del comercio\n",
        "    print(comercio.tags)\n",
        "    # Ver las coordenadas del comercio\n",
        "    print(comercio.lat, comercio.lon)"
      ],
      "execution_count": null,
      "outputs": [
        {
          "output_type": "error",
          "ename": "NameError",
          "evalue": "ignored",
          "traceback": [
            "\u001b[0;31m---------------------------------------------------------------------------\u001b[0m",
            "\u001b[0;31mNameError\u001b[0m                                 Traceback (most recent call last)",
            "\u001b[0;32m<ipython-input-1-3e408ac68d94>\u001b[0m in \u001b[0;36m<module>\u001b[0;34m()\u001b[0m\n\u001b[0;32m----> 1\u001b[0;31m \u001b[0;32mfor\u001b[0m \u001b[0mcomercio\u001b[0m \u001b[0;32min\u001b[0m \u001b[0mresultado\u001b[0m\u001b[0;34m.\u001b[0m\u001b[0mnodes\u001b[0m\u001b[0;34m:\u001b[0m\u001b[0;34m\u001b[0m\u001b[0;34m\u001b[0m\u001b[0m\n\u001b[0m\u001b[1;32m      2\u001b[0m     \u001b[0;31m# Ver todas las propiedades y métodos de este objeto\u001b[0m\u001b[0;34m\u001b[0m\u001b[0;34m\u001b[0m\u001b[0;34m\u001b[0m\u001b[0m\n\u001b[1;32m      3\u001b[0m     \u001b[0;31m#print(dir(comercio))\u001b[0m\u001b[0;34m\u001b[0m\u001b[0;34m\u001b[0m\u001b[0;34m\u001b[0m\u001b[0m\n\u001b[1;32m      4\u001b[0m     \u001b[0;31m# Ver las propiedades del comercio\u001b[0m\u001b[0;34m\u001b[0m\u001b[0;34m\u001b[0m\u001b[0;34m\u001b[0m\u001b[0m\n\u001b[1;32m      5\u001b[0m     \u001b[0mprint\u001b[0m\u001b[0;34m(\u001b[0m\u001b[0mcomercio\u001b[0m\u001b[0;34m.\u001b[0m\u001b[0mtags\u001b[0m\u001b[0;34m)\u001b[0m\u001b[0;34m\u001b[0m\u001b[0;34m\u001b[0m\u001b[0m\n",
            "\u001b[0;31mNameError\u001b[0m: name 'resultado' is not defined"
          ]
        }
      ]
    },
    {
      "cell_type": "markdown",
      "metadata": {
        "id": "sffYdW11VsCh"
      },
      "source": [
        "# Recorrer los polígonos devueltos"
      ]
    },
    {
      "cell_type": "code",
      "metadata": {
        "id": "NIlIAbSxVMJw"
      },
      "source": [
        "for comercio in resultado.ways:\n",
        "    # Ver todas las propiedades y métodos de este objeto\n",
        "    #print(dir(comercio))\n",
        "    # Ver las propiedades del comercio\n",
        "    print(comercio.tags)\n",
        "    # Ver las coordenadas del comercio\n",
        "    print(comercio.lat, comercio.lon)"
      ],
      "execution_count": null,
      "outputs": []
    },
    {
      "cell_type": "markdown",
      "metadata": {
        "id": "A9JCstVeBhO_"
      },
      "source": [
        "# Descargar los resultados"
      ]
    },
    {
      "cell_type": "code",
      "metadata": {
        "colab": {
          "base_uri": "https://localhost:8080/",
          "height": 884
        },
        "id": "636f-r5gBmcN",
        "outputId": "96d02e7e-41f2-45a4-90a8-acbd67e760b7"
      },
      "source": [
        "import pandas as pd\n",
        "from google.colab import files\n",
        "from io import StringIO\n",
        "import json\n",
        "todos = []\n",
        "for comercio in resultado.nodes:\n",
        "    data = {\n",
        "        \"name\": comercio.tags.get('name', None),\n",
        "        \"lat\": float(comercio.lat),\n",
        "        \"lon\": float(comercio.lon)\n",
        "    }\n",
        "    data.update(comercio.tags)\n",
        "    todos.append(data)\n",
        "\n",
        "# Muestra de los primeros 10 registros\n",
        "df = pd.read_json(StringIO(json.dumps(todos)))\n",
        "print(\"Muestra de los 10 primeros registros. {} columnas.\".format(len(df.columns)))\n",
        "print(\"\")\n",
        "pd.set_option('display.max_columns', 20)\n",
        "print(df.head(10))\n",
        "# Descarga\n",
        "df.to_csv('bares_espana.csv')\n",
        "files.download('bares_espana.csv')"
      ],
      "execution_count": 36,
      "outputs": [
        {
          "output_type": "stream",
          "text": [
            "Muestra de los primeros 10 registros. 267 columnas.\n",
            "\n",
            "                   name        lat       lon addr:city addr:housenumber  \\\n",
            "0              Mür Café  40.425642 -3.712200    Madrid                2   \n",
            "1      Cocktails+Dreams  39.655822  3.438309       NaN              NaN   \n",
            "2  Polynesian Cocktails  39.656648  3.438906       NaN              NaN   \n",
            "3    Cadillac Solitario  40.487473 -3.699712       NaN              NaN   \n",
            "4           Bar Barocco  40.413064 -3.712934       NaN              NaN   \n",
            "5                 Gilda  39.474825 -0.382234       NaN              NaN   \n",
            "6                   Bar  40.409488 -3.693807       NaN              NaN   \n",
            "7                  None  40.411638 -3.697940       NaN              NaN   \n",
            "8                 Fever  40.412445 -3.696158       NaN              NaN   \n",
            "9             La Hidria  40.412804 -3.695685       NaN              NaN   \n",
            "\n",
            "  addr:postcode               addr:street amenity             email  \\\n",
            "0         28015  Plaza de Cristino Martos     bar  hola@murcafe.com   \n",
            "1           NaN                       NaN     bar               NaN   \n",
            "2           NaN                       NaN     bar               NaN   \n",
            "3           NaN                       NaN     bar               NaN   \n",
            "4           NaN                       NaN     bar               NaN   \n",
            "5           NaN                       NaN     bar               NaN   \n",
            "6           NaN                       NaN     bar               NaN   \n",
            "7           NaN                       NaN     bar               NaN   \n",
            "8           NaN                       NaN     bar               NaN   \n",
            "9           NaN                       NaN     bar               NaN   \n",
            "\n",
            "              phone  ... opening_hours:kitchen LOCALIDAD addr:street:gl  \\\n",
            "0  +34 91 139 98 09  ...                   NaN       NaN            NaN   \n",
            "1               NaN  ...                   NaN       NaN            NaN   \n",
            "2               NaN  ...                   NaN       NaN            NaN   \n",
            "3               NaN  ...                   NaN       NaN            NaN   \n",
            "4               NaN  ...                   NaN       NaN            NaN   \n",
            "5               NaN  ...                   NaN       NaN            NaN   \n",
            "6               NaN  ...                   NaN       NaN            NaN   \n",
            "7               NaN  ...                   NaN       NaN            NaN   \n",
            "8               NaN  ...                   NaN       NaN            NaN   \n",
            "9               NaN  ...                   NaN       NaN            NaN   \n",
            "\n",
            "  description:es delivery:covid19 vegan vegetarian name:ga image karaoke  \n",
            "0            NaN              NaN   NaN        NaN     NaN   NaN     NaN  \n",
            "1            NaN              NaN   NaN        NaN     NaN   NaN     NaN  \n",
            "2            NaN              NaN   NaN        NaN     NaN   NaN     NaN  \n",
            "3            NaN              NaN   NaN        NaN     NaN   NaN     NaN  \n",
            "4            NaN              NaN   NaN        NaN     NaN   NaN     NaN  \n",
            "5            NaN              NaN   NaN        NaN     NaN   NaN     NaN  \n",
            "6            NaN              NaN   NaN        NaN     NaN   NaN     NaN  \n",
            "7            NaN              NaN   NaN        NaN     NaN   NaN     NaN  \n",
            "8            NaN              NaN   NaN        NaN     NaN   NaN     NaN  \n",
            "9            NaN              NaN   NaN        NaN     NaN   NaN     NaN  \n",
            "\n",
            "[10 rows x 267 columns]\n"
          ],
          "name": "stdout"
        },
        {
          "output_type": "display_data",
          "data": {
            "application/javascript": [
              "\n",
              "    async function download(id, filename, size) {\n",
              "      if (!google.colab.kernel.accessAllowed) {\n",
              "        return;\n",
              "      }\n",
              "      const div = document.createElement('div');\n",
              "      const label = document.createElement('label');\n",
              "      label.textContent = `Downloading \"${filename}\": `;\n",
              "      div.appendChild(label);\n",
              "      const progress = document.createElement('progress');\n",
              "      progress.max = size;\n",
              "      div.appendChild(progress);\n",
              "      document.body.appendChild(div);\n",
              "\n",
              "      const buffers = [];\n",
              "      let downloaded = 0;\n",
              "\n",
              "      const channel = await google.colab.kernel.comms.open(id);\n",
              "      // Send a message to notify the kernel that we're ready.\n",
              "      channel.send({})\n",
              "\n",
              "      for await (const message of channel.messages) {\n",
              "        // Send a message to notify the kernel that we're ready.\n",
              "        channel.send({})\n",
              "        if (message.buffers) {\n",
              "          for (const buffer of message.buffers) {\n",
              "            buffers.push(buffer);\n",
              "            downloaded += buffer.byteLength;\n",
              "            progress.value = downloaded;\n",
              "          }\n",
              "        }\n",
              "      }\n",
              "      const blob = new Blob(buffers, {type: 'application/binary'});\n",
              "      const a = document.createElement('a');\n",
              "      a.href = window.URL.createObjectURL(blob);\n",
              "      a.download = filename;\n",
              "      div.appendChild(a);\n",
              "      a.click();\n",
              "      div.remove();\n",
              "    }\n",
              "  "
            ],
            "text/plain": [
              "<IPython.core.display.Javascript object>"
            ]
          },
          "metadata": {
            "tags": []
          }
        },
        {
          "output_type": "display_data",
          "data": {
            "application/javascript": [
              "download(\"download_ff3b51dd-b2b9-48a3-946b-d796bbad8ce3\", \"bares_espana.csv\", 6850035)"
            ],
            "text/plain": [
              "<IPython.core.display.Javascript object>"
            ]
          },
          "metadata": {
            "tags": []
          }
        }
      ]
    },
    {
      "cell_type": "code",
      "metadata": {
        "id": "EZdrMvDXC4l8"
      },
      "source": [
        ""
      ],
      "execution_count": null,
      "outputs": []
    }
  ]
}