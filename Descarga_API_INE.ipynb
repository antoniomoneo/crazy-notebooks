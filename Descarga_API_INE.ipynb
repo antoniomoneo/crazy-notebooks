{
  "nbformat": 4,
  "nbformat_minor": 0,
  "metadata": {
    "colab": {
      "name": "Descarga API INE",
      "provenance": [],
      "collapsed_sections": [
        "wPut0fVCwGB-",
        "bRQPqk1G01nB",
        "rr6e0Z516Dxk",
        "qaxargac-Dbd",
        "Xz4Lp0w0Buvt"
      ]
    },
    "kernelspec": {
      "name": "python3",
      "display_name": "Python 3"
    },
    "language_info": {
      "name": "python"
    }
  },
  "cells": [
    {
      "cell_type": "markdown",
      "metadata": {
        "id": "wPut0fVCwGB-"
      },
      "source": [
        "#Definiciones y carga inicial"
      ]
    },
    {
      "cell_type": "code",
      "metadata": {
        "id": "Sc942biEvrI-"
      },
      "source": [
        "import requests\n",
        "from google.colab import files\n",
        "import pandas as pd\n",
        "from io import StringIO\n",
        "import json\n",
        "\n",
        "API_ROOT = 'https://servicios.ine.es/wstempus/js'\n",
        "\n",
        "pd.set_option('display.width', None)\n",
        "pd.set_option('display.max_colwidth', None)\n",
        "\n",
        "def consulta(funcion='OPERACIONES_DISPONIBLES', input=None, params=None, idioma='es'):\n",
        "    if input:\n",
        "        query_list = [API_ROOT, idioma, funcion, input]\n",
        "    else:\n",
        "        query_list = [API_ROOT, idioma, funcion]\n",
        "    url = \"/\".join(query_list)\n",
        "    if params:\n",
        "        url = '{}?{}'.format(url, \"&\".join(params))\n",
        "    print(\"Consulta realizada: {}\".format(url))\n",
        "    response = requests.get(url)\n",
        "    if response.content.decode('utf-8') == '':\n",
        "        print(\"La consulta no ha devuelto nada.\")\n",
        "        return None\n",
        "    else:\n",
        "        return response.json()\n",
        "\n",
        "def titulo(texto):\n",
        "    print(\"\")\n",
        "    print(texto.upper())\n",
        "    print(\"=\" * 50)\n",
        "\n",
        "def muestra(datos, orden=None):\n",
        "    if 'Nombre' in datos:\n",
        "        titulo(\"Muestra de {}\".format(datos['Nombre']))\n",
        "        datos = datos['Data']\n",
        "    if orden:\n",
        "        datos.sort(key=lambda x: x[orden])\n",
        "    df = pd.read_json(StringIO(json.dumps(datos)))\n",
        "    print(df.head(100))\n",
        "\n",
        "def muestra_todos(datos, orden=None):\n",
        "    pd.set_option('display.max_rows', None)\n",
        "    pd.set_option('display.max_columns', None)\n",
        "    muestra(datos, orden)\n",
        "    pd.set_option('display.max_rows', 10)\n",
        "    pd.set_option('display.max_columns', 5)\n",
        "\n",
        "def exporta(datos):\n",
        "    if 'Data' in datos:\n",
        "        filename = '{} - {}.csv'.format(datos['COD'], datos['Nombre'])\n",
        "        datos = datos['Data']\n",
        "    else:\n",
        "        filename = 'metadatos.csv'\n",
        "    df = pd.read_json(StringIO(json.dumps(datos)))\n",
        "    df.to_csv(filename)\n",
        "    files.download(filename)"
      ],
      "execution_count": null,
      "outputs": []
    },
    {
      "cell_type": "markdown",
      "metadata": {
        "id": "7sA6ku7ixnxH"
      },
      "source": [
        "#Ejemplos\n",
        "\n",
        "Las consultas siguen el mismo patrón que se indica en la [documentación de la API](https://www.ine.es/dyngs/DataLab/manual.html?cid=47).\n",
        "\n",
        "- **funcion**: para la descarga de datos habitualmente será DATOS_SERIE o DATOS_TABLA.\n",
        "- **input**: el nombre de la serie o tabla cuyos datos queremos descargar.\n",
        "- **parametros**: algunas consultas requieren parámetros específicos. En el caso de la consulta de datos, además de los comunes podemos usar date y nult. Ver la documentación para mayor información."
      ]
    },
    {
      "cell_type": "markdown",
      "metadata": {
        "id": "bRQPqk1G01nB"
      },
      "source": [
        "###Consulta y descarga de una serie de datos"
      ]
    },
    {
      "cell_type": "code",
      "metadata": {
        "colab": {
          "base_uri": "https://localhost:8080/",
          "height": 323
        },
        "id": "Lfj24RGZ0BEV",
        "outputId": "3f0a3f6b-b82d-440f-f276-fcfe0c61142f"
      },
      "source": [
        "funcion = 'DATOS_SERIE'\n",
        "input = 'IPC251839'\n",
        "parametros = [\n",
        "    'nult=100'\n",
        "]\n",
        "\n",
        "datos = consulta(funcion=funcion, input=input, params=parametros)\n",
        "if datos:\n",
        "    muestra(datos)\n",
        "    exporta(datos)"
      ],
      "execution_count": null,
      "outputs": [
        {
          "output_type": "stream",
          "text": [
            "Consulta realizada: https://servicios.ine.es/wstempus/js/es/DATOS_SERIE/IPC251839?nult=100\n",
            "\n",
            "MUESTRA DE TOTAL NACIONAL. BIENES COVID-19. VARIACIÓN MENSUAL. \n",
            "==================================================\n",
            "            Fecha  FK_TipoDato  ...  Valor  Secreto\n",
            "0   1483225200000            1  ...    0.6    False\n",
            "1   1485903600000            1  ...    0.1    False\n",
            "2   1488322800000            1  ...   -0.2    False\n",
            "3   1490997600000            1  ...   -0.1    False\n",
            "4   1493589600000            1  ...    0.2    False\n",
            "..            ...          ...  ...    ...      ...\n",
            "47  1606777200000            1  ...   -0.3    False\n",
            "48  1609455600000            3  ...    0.7    False\n",
            "49  1612134000000            3  ...    0.0    False\n",
            "50  1614553200000            3  ...    0.0    False\n",
            "51  1617228000000            3  ...    0.3    False\n",
            "\n",
            "[52 rows x 6 columns]\n"
          ],
          "name": "stdout"
        },
        {
          "output_type": "display_data",
          "data": {
            "application/javascript": [
              "\n",
              "    async function download(id, filename, size) {\n",
              "      if (!google.colab.kernel.accessAllowed) {\n",
              "        return;\n",
              "      }\n",
              "      const div = document.createElement('div');\n",
              "      const label = document.createElement('label');\n",
              "      label.textContent = `Downloading \"${filename}\": `;\n",
              "      div.appendChild(label);\n",
              "      const progress = document.createElement('progress');\n",
              "      progress.max = size;\n",
              "      div.appendChild(progress);\n",
              "      document.body.appendChild(div);\n",
              "\n",
              "      const buffers = [];\n",
              "      let downloaded = 0;\n",
              "\n",
              "      const channel = await google.colab.kernel.comms.open(id);\n",
              "      // Send a message to notify the kernel that we're ready.\n",
              "      channel.send({})\n",
              "\n",
              "      for await (const message of channel.messages) {\n",
              "        // Send a message to notify the kernel that we're ready.\n",
              "        channel.send({})\n",
              "        if (message.buffers) {\n",
              "          for (const buffer of message.buffers) {\n",
              "            buffers.push(buffer);\n",
              "            downloaded += buffer.byteLength;\n",
              "            progress.value = downloaded;\n",
              "          }\n",
              "        }\n",
              "      }\n",
              "      const blob = new Blob(buffers, {type: 'application/binary'});\n",
              "      const a = document.createElement('a');\n",
              "      a.href = window.URL.createObjectURL(blob);\n",
              "      a.download = filename;\n",
              "      div.appendChild(a);\n",
              "      a.click();\n",
              "      div.remove();\n",
              "    }\n",
              "  "
            ],
            "text/plain": [
              "<IPython.core.display.Javascript object>"
            ]
          },
          "metadata": {
            "tags": []
          }
        },
        {
          "output_type": "display_data",
          "data": {
            "application/javascript": [
              "download(\"download_d52f31cd-bb99-48dd-a410-476d82e415b4\", \"IPC251839 - Total Nacional. Bienes COVID-19. Variaci\\u00f3n mensual. .csv\", 2143)"
            ],
            "text/plain": [
              "<IPython.core.display.Javascript object>"
            ]
          },
          "metadata": {
            "tags": []
          }
        }
      ]
    },
    {
      "cell_type": "markdown",
      "metadata": {
        "id": "rr6e0Z516Dxk"
      },
      "source": [
        "###Ver operaciones disponibles"
      ]
    },
    {
      "cell_type": "code",
      "metadata": {
        "id": "l4CyDYhmxtrh"
      },
      "source": [
        "funcion = 'OPERACIONES_DISPONIBLES'\n",
        "input = ''\n",
        "\n",
        "operaciones = consulta(funcion, input)\n",
        "if operaciones:\n",
        "    titulo(\"Operaciones disponibles:\")\n",
        "    muestra_todos(operaciones, 'Codigo')\n"
      ],
      "execution_count": null,
      "outputs": []
    },
    {
      "cell_type": "markdown",
      "metadata": {
        "id": "qaxargac-Dbd"
      },
      "source": [
        "###Ver las series de una operación"
      ]
    },
    {
      "cell_type": "code",
      "metadata": {
        "id": "8v9T5G2D-D7y"
      },
      "source": [
        "funcion = 'SERIES_OPERACION'\n",
        "input = 'MYH'\n",
        "parametros = [\n",
        "    \"page=1\"\n",
        "]\n",
        "\n",
        "series = consulta(funcion, input, parametros)\n",
        "if series:\n",
        "    titulo(\"Series disponibles:\")\n",
        "    muestra_todos(series)\n",
        "    exporta(series)"
      ],
      "execution_count": null,
      "outputs": []
    },
    {
      "cell_type": "markdown",
      "metadata": {
        "id": "Xz4Lp0w0Buvt"
      },
      "source": [
        "###Ver los datos de la serie anterior"
      ]
    },
    {
      "cell_type": "code",
      "metadata": {
        "colab": {
          "base_uri": "https://localhost:8080/"
        },
        "id": "CFvNGQQEBzvQ",
        "outputId": "728a3e67-c726-4206-c302-008742d31b8a"
      },
      "source": [
        "funcion = 'DATOS_SERIE'\n",
        "input = 'MYH19792'\n",
        "parametros = [\n",
        "    \"page=1\"\n",
        "]\n",
        "\n",
        "series = consulta(funcion, input, parametros)\n",
        "if series:\n",
        "    titulo(\"Series disponibles:\")\n",
        "    muestra_todos(series)"
      ],
      "execution_count": null,
      "outputs": [
        {
          "output_type": "stream",
          "text": [
            "Consulta realizada: https://servicios.ine.es/wstempus/js/es/DATOS_SERIE/MYH19792?page=1\n",
            "La consulta no ha devuelto nada.\n"
          ],
          "name": "stdout"
        }
      ]
    }
  ]
}